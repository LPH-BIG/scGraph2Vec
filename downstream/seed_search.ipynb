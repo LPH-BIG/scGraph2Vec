{
 "cells": [
  {
   "cell_type": "code",
   "execution_count": 1,
   "metadata": {},
   "outputs": [],
   "source": [
    "from sklearn.preprocessing import normalize\n",
    "from sklearn.feature_selection import chi2,mutual_info_regression\n",
    "import scipy.cluster.hierarchy as shc\n",
    "import pandas as pd\n",
    "import numpy as np\n",
    "import matplotlib.pyplot as plt\n",
    "from sklearn.metrics import silhouette_score,calinski_harabasz_score,davies_bouldin_score"
   ]
  },
  {
   "cell_type": "code",
   "execution_count": 2,
   "metadata": {},
   "outputs": [],
   "source": [
    "data = pd.read_csv(\"brain_embedding_clusters.csv\")"
   ]
  },
  {
   "cell_type": "code",
   "execution_count": 12,
   "metadata": {},
   "outputs": [],
   "source": [
    "link=shc.linkage(data15.iloc[:,19:21], method='ward')\n",
    "silhouette = []\n",
    "k_sil = []\n",
    "for i in range(2,150):\n",
    "    fc=shc.fcluster(link, t=i, criterion='maxclust')\n",
    "    np.unique(fc,return_counts=True)\n",
    "    score=silhouette_score(data.iloc[:,19:21],fc)\n",
    "    silhouette.append(score)\n",
    "    k_sil.append(i)"
   ]
  },
  {
   "cell_type": "code",
   "execution_count": 26,
   "metadata": {},
   "outputs": [
    {
     "data": {
      "text/plain": [
       "(array([  1,   2,   3,   4,   5,   6,   7,   8,   9,  10,  11,  12,  13,\n",
       "         14,  15,  16,  17,  18,  19,  20,  21,  22,  23,  24,  25,  26,\n",
       "         27,  28,  29,  30,  31,  32,  33,  34,  35,  36,  37,  38,  39,\n",
       "         40,  41,  42,  43,  44,  45,  46,  47,  48,  49,  50,  51,  52,\n",
       "         53,  54,  55,  56,  57,  58,  59,  60,  61,  62,  63,  64,  65,\n",
       "         66,  67,  68,  69,  70,  71,  72,  73,  74,  75,  76,  77,  78,\n",
       "         79,  80,  81,  82,  83,  84,  85,  86,  87,  88,  89,  90,  91,\n",
       "         92,  93,  94,  95,  96,  97,  98,  99, 100, 101, 102, 103, 104,\n",
       "        105, 106, 107, 108, 109, 110, 111, 112, 113, 114, 115, 116, 117,\n",
       "        118, 119, 120, 121, 122, 123, 124, 125, 126, 127], dtype=int32),\n",
       " array([184, 141, 223,  82, 250, 171,  68, 104, 226, 108, 199, 100, 166,\n",
       "        160, 129, 138, 234, 123, 114, 105, 164,  99, 138, 200, 120, 130,\n",
       "        216, 125, 147, 140, 131,  74, 211, 130, 158, 169, 252, 134, 175,\n",
       "        210, 259, 206, 127, 140, 231, 183, 114, 178, 164, 220, 187, 226,\n",
       "        123, 189, 131, 165, 126, 168, 198, 202,  90, 131, 161, 169, 158,\n",
       "        254, 142, 190, 153, 189, 271, 162, 192, 220, 183, 224, 173,  83,\n",
       "         98, 149,  96, 151, 119, 164, 139, 100, 143,  75, 177, 117, 182,\n",
       "        211, 164, 148, 116, 173, 140, 103, 127, 208,  87,  97, 101, 122,\n",
       "        178, 237, 128, 181, 220,  87, 220, 160, 109, 101, 165, 108, 207,\n",
       "         91,  92, 126, 150, 116, 106,  98, 233,  92, 119], dtype=int64))"
      ]
     },
     "execution_count": 26,
     "metadata": {},
     "output_type": "execute_result"
    }
   ],
   "source": [
    "fc=shc.fcluster(link, t=127, criterion='maxclust')\n",
    "np.unique(fc,return_counts=True)"
   ]
  },
  {
   "cell_type": "code",
   "execution_count": 27,
   "metadata": {},
   "outputs": [],
   "source": [
    "data['tsne2d_hier_clust']=fc\n",
    "data.to_csv(\"brain_embedding_clusters_hier-clust_maxclust127.csv\")"
   ]
  },
  {
   "cell_type": "code",
   "execution_count": 1,
   "metadata": {},
   "outputs": [],
   "source": [
    "import random\n",
    "import pandas as pd\n",
    "import numpy as np\n",
    "\n",
    "def cal_Cmass(data):\n",
    "    '''\n",
    "    input:data(ndarray)\n",
    "    output:mass(ndarray)\n",
    "    '''\n",
    "    Cmass = np.mean(data,axis=0)\n",
    "    return Cmass\n",
    "\n",
    "def distance(x, y, p=2):\n",
    "    '''\n",
    "    input:x(ndarray)\n",
    "          y(ndarray)\n",
    "          p(int)\n",
    "    output:distance(float)   \n",
    "    '''   \n",
    "    dis2 = np.sum(np.abs(x-y)**p)\n",
    "    dis = np.power(dis2,1/p)\n",
    "    return dis\n",
    "\n",
    "\n",
    "def total_inertia(data):\n",
    "    '''\n",
    "    input:data(ndarray)\n",
    "          Cmass(ndarray)\n",
    "    output:dis_list(list)\n",
    "    '''\n",
    "    dis_list = []\n",
    "    Cmass = cal_Cmass(data)\n",
    "    for i in range(len(data)): \n",
    "        dis_list.append(distance(Cmass,data[i][:]))\n",
    "    dis_list = sum(dis_list)\n",
    "    return dis_list\n",
    "\n",
    "data=pd.read_csv(\"brain_embedding_clusters_hier-clust_maxclust127.csv\")\n",
    "inertia = []\n",
    "for i in np.unique(data['tsne2d_hier_clust']):\n",
    "    tmp = data.loc[data['tsne2d_hier_clust']==i]\n",
    "    inertia.append([total_inertia(tmp.iloc[:,20:22].values)/(np.power(tmp.shape[0],2)),tmp.shape[0]])\n",
    "inertia_res=pd.DataFrame(inertia,index=np.unique(data['tsne2d_hier_clust']),columns=['total_inertia','gene_numbers'])"
   ]
  },
  {
   "cell_type": "code",
   "execution_count": 1,
   "metadata": {},
   "outputs": [],
   "source": [
    "import numpy as np\n",
    "import pandas as pd\n",
    "import random\n",
    "import matplotlib.pyplot as plt\n",
    "import copy\n",
    "from sklearn import datasets\n",
    " \n",
    " \n",
    "def find_neighbor(j, x, eps):\n",
    "    \"\"\"\n",
    "    :param j: index of the core point\n",
    "    :param x: input data\n",
    "    :param eps: radius of neighbourhood\n",
    "    \"\"\"\n",
    "    temp = np.sum((x - x[j]) ** 2, axis=1) ** 0.5\n",
    "    N = np.argwhere(temp <= eps).flatten().tolist()\n",
    "    return N\n",
    " \n",
    " \n",
    "def seed_search(X, omega_list, eps, MinPts):\n",
    "    k = -1\n",
    "    neighbor_list = []\n",
    "\n",
    "    gama = set([x for x in range(len(X))])\n",
    "    cluster = [-1 for _ in range(len(X))]\n",
    " \n",
    "    for i in range(len(X)):\n",
    "        neighbor_list.append(find_neighbor(i, X, eps))\n",
    " \n",
    "    omega_list = set(omega_list)\n",
    "    while len(omega_list) > 0:\n",
    "        gama_old = copy.deepcopy(gama)\n",
    "        j = random.choice(list(omega_list))\n",
    "        k = k + 1\n",
    "        Q = list()\n",
    "        Q.append(j)\n",
    "        gama.remove(j)\n",
    "        while len(Q) > 0:\n",
    "            q = Q[0]\n",
    "            Q.remove(q)\n",
    "            if len(neighbor_list[q]) >= MinPts:\n",
    "                delta = set(neighbor_list[q]) & gama\n",
    "                delta_list = list(delta)\n",
    "                for i in range(len(delta)):\n",
    "                    Q.append(delta_list[i])\n",
    "                    gama = gama - delta\n",
    "        Ck = gama_old - gama\n",
    "        Cklist = list(Ck)\n",
    "        for i in range(len(Ck)):\n",
    "            cluster[Cklist[i]] = k\n",
    "        omega_list = omega_list - Ck\n",
    "    return cluster"
   ]
  },
  {
   "cell_type": "code",
   "execution_count": 2,
   "metadata": {},
   "outputs": [],
   "source": [
    "magma=pd.read_csv(\"brain_embedding_clusters_maxclust127_magmagene.csv\",sep=\",\")\n",
    "omega_list=magma.loc[magma['magma_gene']]['Symbol'].index\n",
    "X1=magma.iloc[:,19:21].values"
   ]
  },
  {
   "cell_type": "code",
   "execution_count": 3,
   "metadata": {},
   "outputs": [
    {
     "data": {
      "text/plain": [
       "Int64Index([   36,   137,   235,   268,   807,   808,   810,   812,   895,\n",
       "             1245,  1276,  1340,  1356,  1371,  1423,  1441,  1706,  2045,\n",
       "             2049,  2074,  2352,  2541,  2542,  2868,  2876,  2972,  2986,\n",
       "             3032,  3276,  3277,  4593,  4640,  4751,  4848,  5096,  5485,\n",
       "             5620,  5892,  7216,  7460,  8406,  8700,  8978,  8979,  8980,\n",
       "             8982,  8983,  9425,  9443, 10783, 10810, 11278, 11308, 11558,\n",
       "            11561, 11771, 11772, 12149, 12820, 13381, 13662, 13869, 14190,\n",
       "            14539, 15122, 15316, 15424, 15430, 15908, 16048, 16080, 16160,\n",
       "            16606, 16650, 16740, 16777, 17002, 17197],\n",
       "           dtype='int64')"
      ]
     },
     "execution_count": 3,
     "metadata": {},
     "output_type": "execute_result"
    }
   ],
   "source": [
    "omega_list"
   ]
  },
  {
   "cell_type": "code",
   "execution_count": 4,
   "metadata": {},
   "outputs": [],
   "source": [
    "eps = 0.5\n",
    "min_Pts = 6\n",
    "C = seed_search(X1, omega_list, eps, min_Pts)\n",
    "magma['gwasseed_clust']=C"
   ]
  },
  {
   "cell_type": "code",
   "execution_count": 5,
   "metadata": {},
   "outputs": [
    {
     "data": {
      "text/plain": [
       "873"
      ]
     },
     "execution_count": 5,
     "metadata": {},
     "output_type": "execute_result"
    }
   ],
   "source": [
    "len([x for x in C if x != -1])"
   ]
  },
  {
   "cell_type": "code",
   "execution_count": 6,
   "metadata": {},
   "outputs": [
    {
     "data": {
      "text/plain": [
       "79"
      ]
     },
     "execution_count": 6,
     "metadata": {},
     "output_type": "execute_result"
    }
   ],
   "source": [
    "len(np.unique(C))"
   ]
  },
  {
   "cell_type": "code",
   "execution_count": 7,
   "metadata": {},
   "outputs": [],
   "source": [
    "magma.to_csv(\"brain_embedding_clusters_maxclust127_gwasseed-clust-eps0.5pts6.csv\")"
   ]
  }
 ],
 "metadata": {
  "kernelspec": {
   "display_name": "Python 3",
   "language": "python",
   "name": "python3"
  },
  "language_info": {
   "codemirror_mode": {
    "name": "ipython",
    "version": 3
   },
   "file_extension": ".py",
   "mimetype": "text/x-python",
   "name": "python",
   "nbconvert_exporter": "python",
   "pygments_lexer": "ipython3",
   "version": "3.8.3"
  }
 },
 "nbformat": 4,
 "nbformat_minor": 4
}
